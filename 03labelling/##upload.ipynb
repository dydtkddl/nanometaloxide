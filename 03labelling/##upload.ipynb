{
 "cells": [
  {
   "cell_type": "code",
   "execution_count": 5,
   "metadata": {},
   "outputs": [
    {
     "name": "stdout",
     "output_type": "stream",
     "text": [
      "http://127.0.0.1:8000/load_data/?filename=../02translated/by_synonym_nano/Al2O3_nano_data_by_synonyms.xlsx\n",
      "http://127.0.0.1:8000/load_data/?filename=../02translated/by_synonym_nano/Alumina_nano_data_by_synonyms.xlsx\n",
      "http://127.0.0.1:8000/load_data/?filename=../02translated/by_synonym_nano/Aluminum Oxide_nano_data_by_synonyms.xlsx\n",
      "http://127.0.0.1:8000/load_data/?filename=../02translated/by_synonym_nano/Anatase_nano_data_by_synonyms.xlsx\n",
      "http://127.0.0.1:8000/load_data/?filename=../02translated/by_synonym_nano/Brookite_nano_data_by_synonyms.xlsx\n",
      "http://127.0.0.1:8000/load_data/?filename=../02translated/by_synonym_nano/Copper(II) Oxide_nano_data_by_synonyms.xlsx\n",
      "http://127.0.0.1:8000/load_data/?filename=../02translated/by_synonym_nano/Corundum_nano_data_by_synonyms.xlsx\n",
      "http://127.0.0.1:8000/load_data/?filename=../02translated/by_synonym_nano/Cristobalite_nano_data_by_synonyms.xlsx\n",
      "http://127.0.0.1:8000/load_data/?filename=../02translated/by_synonym_nano/CuO_nano_data_by_synonyms.xlsx\n",
      "http://127.0.0.1:8000/load_data/?filename=../02translated/by_synonym_nano/Quartz_nano_data_by_synonyms.xlsx\n",
      "http://127.0.0.1:8000/load_data/?filename=../02translated/by_synonym_nano/Rutile_nano_data_by_synonyms.xlsx\n",
      "http://127.0.0.1:8000/load_data/?filename=../02translated/by_synonym_nano/Silica_nano_data_by_synonyms.xlsx\n",
      "http://127.0.0.1:8000/load_data/?filename=../02translated/by_synonym_nano/Silicon Dioxide_nano_data_by_synonyms.xlsx\n",
      "http://127.0.0.1:8000/load_data/?filename=../02translated/by_synonym_nano/SiO2_nano_data_by_synonyms.xlsx\n",
      "http://127.0.0.1:8000/load_data/?filename=../02translated/by_synonym_nano/TiO2_nano_data_by_synonyms.xlsx\n",
      "http://127.0.0.1:8000/load_data/?filename=../02translated/by_synonym_nano/Titania_nano_data_by_synonyms.xlsx\n",
      "http://127.0.0.1:8000/load_data/?filename=../02translated/by_synonym_nano/Titanium Dioxide_nano_data_by_synonyms.xlsx\n",
      "http://127.0.0.1:8000/load_data/?filename=../02translated/by_synonym_nano/Zinc Oxide_nano_data_by_synonyms.xlsx\n",
      "http://127.0.0.1:8000/load_data/?filename=../02translated/by_synonym_nano/ZnO_nano_data_by_synonyms.xlsx\n"
     ]
    }
   ],
   "source": [
    "import requests\n",
    "import os\n",
    "files = os.listdir(\"../02translated/by_synonym_nano\")\n",
    "# print(files)\n",
    "for file in files:\n",
    "  url = \"http://127.0.0.1:8000/load_data/?filename=../02translated/by_synonym_nano/%s\"%file\n",
    "  print(url)\n",
    "  response = requests.get(url)\n",
    "  if response.status_code!=200:\n",
    "    print(file)"
   ]
  },
  {
   "cell_type": "code",
   "execution_count": 7,
   "metadata": {},
   "outputs": [
    {
     "name": "stdout",
     "output_type": "stream",
     "text": [
      "http://127.0.0.1:8000/load_data/?filename=../02translated/by_synonym_not_nano/Al2O3_not_nano_data_by_synonyms.xlsx\n",
      "http://127.0.0.1:8000/load_data/?filename=../02translated/by_synonym_not_nano/Alumina_not_nano_data_by_synonyms.xlsx\n",
      "http://127.0.0.1:8000/load_data/?filename=../02translated/by_synonym_not_nano/Aluminum Oxide_not_nano_data_by_synonyms.xlsx\n",
      "http://127.0.0.1:8000/load_data/?filename=../02translated/by_synonym_not_nano/Alundum_not_nano_data_by_synonyms.xlsx\n",
      "http://127.0.0.1:8000/load_data/?filename=../02translated/by_synonym_not_nano/Anatase_not_nano_data_by_synonyms.xlsx\n",
      "http://127.0.0.1:8000/load_data/?filename=../02translated/by_synonym_not_nano/Brookite_not_nano_data_by_synonyms.xlsx\n",
      "http://127.0.0.1:8000/load_data/?filename=../02translated/by_synonym_not_nano/Copper(II) Oxide_not_nano_data_by_synonyms.xlsx\n",
      "http://127.0.0.1:8000/load_data/?filename=../02translated/by_synonym_not_nano/Corundum_not_nano_data_by_synonyms.xlsx\n",
      "http://127.0.0.1:8000/load_data/?filename=../02translated/by_synonym_not_nano/Cristobalite_not_nano_data_by_synonyms.xlsx\n",
      "http://127.0.0.1:8000/load_data/?filename=../02translated/by_synonym_not_nano/CuO_not_nano_data_by_synonyms.xlsx\n",
      "http://127.0.0.1:8000/load_data/?filename=../02translated/by_synonym_not_nano/Quartz_not_nano_data_by_synonyms.xlsx\n",
      "http://127.0.0.1:8000/load_data/?filename=../02translated/by_synonym_not_nano/Rutile_not_nano_data_by_synonyms.xlsx\n",
      "http://127.0.0.1:8000/load_data/?filename=../02translated/by_synonym_not_nano/Silica_not_nano_data_by_synonyms.xlsx\n",
      "http://127.0.0.1:8000/load_data/?filename=../02translated/by_synonym_not_nano/Silicon Dioxide_not_nano_data_by_synonyms.xlsx\n",
      "http://127.0.0.1:8000/load_data/?filename=../02translated/by_synonym_not_nano/SiO2_not_nano_data_by_synonyms.xlsx\n",
      "http://127.0.0.1:8000/load_data/?filename=../02translated/by_synonym_not_nano/Tenorite_not_nano_data_by_synonyms.xlsx\n",
      "http://127.0.0.1:8000/load_data/?filename=../02translated/by_synonym_not_nano/TiO2_not_nano_data_by_synonyms.xlsx\n",
      "http://127.0.0.1:8000/load_data/?filename=../02translated/by_synonym_not_nano/Titania_not_nano_data_by_synonyms.xlsx\n",
      "http://127.0.0.1:8000/load_data/?filename=../02translated/by_synonym_not_nano/Titanium Dioxide_not_nano_data_by_synonyms.xlsx\n",
      "http://127.0.0.1:8000/load_data/?filename=../02translated/by_synonym_not_nano/Tridymite_not_nano_data_by_synonyms.xlsx\n",
      "http://127.0.0.1:8000/load_data/?filename=../02translated/by_synonym_not_nano/Zinc Oxide_not_nano_data_by_synonyms.xlsx\n",
      "http://127.0.0.1:8000/load_data/?filename=../02translated/by_synonym_not_nano/Zincite_not_nano_data_by_synonyms.xlsx\n",
      "http://127.0.0.1:8000/load_data/?filename=../02translated/by_synonym_not_nano/ZnO_not_nano_data_by_synonyms.xlsx\n"
     ]
    }
   ],
   "source": [
    "import requests\n",
    "import os\n",
    "files = os.listdir(\"../02translated/by_synonym_not_nano\")\n",
    "# print(files)\n",
    "for file in files:\n",
    "  url = \"http://127.0.0.1:8000/load_data/?filename=../02translated/by_synonym_not_nano/%s\"%file\n",
    "  print(url)\n",
    "  response = requests.get(url)\n",
    "  if response.status_code!=200:\n",
    "    print(file)"
   ]
  },
  {
   "cell_type": "code",
   "execution_count": null,
   "metadata": {},
   "outputs": [],
   "source": []
  }
 ],
 "metadata": {
  "kernelspec": {
   "display_name": "BERT_RANKING_NEN3.8",
   "language": "python",
   "name": "python3"
  },
  "language_info": {
   "codemirror_mode": {
    "name": "ipython",
    "version": 3
   },
   "file_extension": ".py",
   "mimetype": "text/x-python",
   "name": "python",
   "nbconvert_exporter": "python",
   "pygments_lexer": "ipython3",
   "version": "3.8.19"
  }
 },
 "nbformat": 4,
 "nbformat_minor": 2
}
