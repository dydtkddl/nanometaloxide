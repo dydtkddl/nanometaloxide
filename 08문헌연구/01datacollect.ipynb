{
 "cells": [
  {
   "cell_type": "markdown",
   "metadata": {},
   "source": [
    "## Springer에서 Subject Materials로 검색하기"
   ]
  },
  {
   "cell_type": "markdown",
   "metadata": {},
   "source": []
  },
  {
   "cell_type": "code",
   "execution_count": 1,
   "metadata": {},
   "outputs": [],
   "source": [
    "import pandas as pd"
   ]
  },
  {
   "cell_type": "markdown",
   "metadata": {},
   "source": [
    "## Springer에서 각 물질들에 대한 논문을 논문 제목으로써 검색"
   ]
  },
  {
   "cell_type": "markdown",
   "metadata": {},
   "source": [
    "#### API 쿼리로 쓸 쿼리 스트링을 만들기"
   ]
  },
  {
   "cell_type": "code",
   "execution_count": 2,
   "metadata": {},
   "outputs": [],
   "source": [
    "import requests\n",
    "APIKEYS = [\"52035a92a974ae59d4bc929c6a8ae9de\",\n",
    "           \"54ef0223aa5d90bd0febe21634994901\",\n",
    "           \"53bca5462c6d35bb58e8247196d638e6\",\n",
    "           \"119ecae1ca9127f1d96a6ebf9b536805\",\n",
    "           \"1eea559f9c6503ce0722a8a3c3d958e7\" ,\n",
    "           \"d19ac693c461be608b928cca2b18ab0f\" ]\n",
    "START_INDEX = 1\n",
    "ARTICLE_PER_REQUEST = 100\n",
    "url = '''http://api.springernature.com/meta/v2/json?q=subject:Chemistry&api_key=%s&p=%s&s=%s'''\n",
    "response = requests.get(url%( APIKEYS[0], ARTICLE_PER_REQUEST, START_INDEX))\n",
    "import json\n",
    "data =json.loads(response.text)\n",
    "title = data[\"records\"][0][\"title\"]\n",
    "# url = \"http://api.springernature.com/meta/v2/json?q=(%sAND title:'nanoparticle')&api_key=%s&p=%s&s=%s\""
   ]
  },
  {
   "cell_type": "markdown",
   "metadata": {},
   "source": [
    "#### requests로 title정보 수집"
   ]
  },
  {
   "cell_type": "code",
   "execution_count": 3,
   "metadata": {},
   "outputs": [
    {
     "name": "stdout",
     "output_type": "stream",
     "text": [
      "840400\n",
      "Fetched 100 records. Total records collected: 100\n",
      "Fetched 100 records. Total records collected: 200\n",
      "Fetched 100 records. Total records collected: 300\n",
      "Fetched 100 records. Total records collected: 400\n",
      "Fetched 100 records. Total records collected: 500\n",
      "Fetched 100 records. Total records collected: 600\n",
      "Fetched 100 records. Total records collected: 700\n",
      "Fetched 100 records. Total records collected: 800\n",
      "Fetched 100 records. Total records collected: 900\n",
      "Fetched 100 records. Total records collected: 1000\n",
      "Fetched 100 records. Total records collected: 1100\n",
      "Fetched 100 records. Total records collected: 1200\n",
      "Fetched 100 records. Total records collected: 1300\n",
      "Fetched 100 records. Total records collected: 1400\n",
      "Fetched 100 records. Total records collected: 1500\n",
      "Fetched 100 records. Total records collected: 1600\n",
      "Fetched 100 records. Total records collected: 1700\n",
      "Fetched 100 records. Total records collected: 1800\n",
      "Fetched 100 records. Total records collected: 1900\n",
      "Fetched 100 records. Total records collected: 2000\n",
      "Fetched 100 records. Total records collected: 2100\n",
      "Fetched 100 records. Total records collected: 2200\n",
      "Fetched 100 records. Total records collected: 2300\n",
      "Fetched 100 records. Total records collected: 2400\n",
      "Fetched 100 records. Total records collected: 2500\n",
      "Fetched 100 records. Total records collected: 2600\n",
      "Fetched 100 records. Total records collected: 2700\n",
      "Fetched 100 records. Total records collected: 2800\n",
      "Fetched 100 records. Total records collected: 2900\n",
      "Fetched 100 records. Total records collected: 3000\n",
      "Fetched 100 records. Total records collected: 3100\n",
      "Fetched 100 records. Total records collected: 3200\n",
      "Fetched 100 records. Total records collected: 3300\n",
      "Fetched 100 records. Total records collected: 3400\n",
      "Fetched 100 records. Total records collected: 3500\n",
      "Fetched 100 records. Total records collected: 3600\n",
      "Fetched 100 records. Total records collected: 3700\n",
      "Fetched 100 records. Total records collected: 3800\n",
      "Fetched 100 records. Total records collected: 3900\n",
      "Fetched 100 records. Total records collected: 4000\n",
      "Fetched 100 records. Total records collected: 4100\n",
      "Fetched 100 records. Total records collected: 4200\n",
      "Fetched 100 records. Total records collected: 4300\n",
      "Fetched 100 records. Total records collected: 4400\n",
      "Fetched 100 records. Total records collected: 4500\n",
      "Fetched 100 records. Total records collected: 4600\n",
      "Fetched 100 records. Total records collected: 4700\n",
      "Fetched 100 records. Total records collected: 4800\n",
      "Fetched 100 records. Total records collected: 4900\n",
      "Fetched 100 records. Total records collected: 5000\n",
      "Fetched 100 records. Total records collected: 5100\n",
      "Fetched 100 records. Total records collected: 5200\n",
      "Fetched 100 records. Total records collected: 5300\n",
      "Fetched 100 records. Total records collected: 5400\n",
      "Fetched 100 records. Total records collected: 5500\n",
      "Fetched 100 records. Total records collected: 5600\n",
      "Fetched 100 records. Total records collected: 5700\n",
      "Fetched 100 records. Total records collected: 5800\n",
      "Fetched 100 records. Total records collected: 5900\n",
      "Fetched 100 records. Total records collected: 6000\n",
      "Fetched 100 records. Total records collected: 6100\n",
      "Fetched 100 records. Total records collected: 6200\n",
      "Fetched 100 records. Total records collected: 6300\n",
      "Fetched 100 records. Total records collected: 6400\n",
      "Fetched 100 records. Total records collected: 6500\n",
      "Fetched 100 records. Total records collected: 6600\n"
     ]
    }
   ],
   "source": [
    "## 84200 , 45500\n",
    "import requests\n",
    "import json\n",
    "import time\n",
    "APIKEYS = [\"52035a92a974ae59d4bc929c6a8ae9de\",\n",
    "           \"54ef0223aa5d90bd0febe21634994901\",\n",
    "           \"53bca5462c6d35bb58e8247196d638e6\",\n",
    "           \"119ecae1ca9127f1d96a6ebf9b536805\",\n",
    "           \"1eea559f9c6503ce0722a8a3c3d958e7\",\n",
    "           \"d19ac693c461be608b928cca2b18ab0f\"]\n",
    "# time.sleep(60*60*6)\n",
    "start = 84200 + 45500 +1 + 129700 + 38400 +99800 + 200799 + 32100 + 65600 +21700 + 88900 +12000 + 21700\n",
    "print(start)\n",
    "ARTICLE_PER_REQUEST = 100\n",
    "START_INDEX = start\n",
    "url_template = 'http://api.springernature.com/meta/v2/json?q=subject:Chemistry&api_key=%s&p=%s&s=%s'\n",
    "\n",
    "all_records = []\n",
    "current_api_key_index = 0\n",
    "\n",
    "while True:\n",
    "    current_api_key = APIKEYS[current_api_key_index]\n",
    "    url = url_template % (current_api_key, ARTICLE_PER_REQUEST, START_INDEX)\n",
    "    \n",
    "    try:\n",
    "        response = requests.get(url)\n",
    "        \n",
    "        if response.status_code == 403:  # API limit reached\n",
    "            print(f\"API key {current_api_key} limit reached.\")\n",
    "            current_api_key_index += 1\n",
    "            if current_api_key_index >= len(APIKEYS):\n",
    "                print(\"All API keys have reached their limits.\")\n",
    "                break\n",
    "            continue\n",
    "        \n",
    "        if response.status_code != 200:\n",
    "            print(f\"Failed to fetch data: {response.status_code}\")\n",
    "            break\n",
    "        \n",
    "        data = json.loads(response.text)\n",
    "        records = data.get(\"records\", [])\n",
    "        \n",
    "        if not records:\n",
    "            print(\"No more records found.\")\n",
    "            break\n",
    "        \n",
    "        for record in records:\n",
    "            title = record.get(\"title\", \"\")\n",
    "            publication_date = record.get(\"publicationDate\", \"\")\n",
    "            doi = record.get(\"doi\", \"\")\n",
    "            if title and publication_date and doi:\n",
    "                all_records.append({\"title\": title, \"publicationDate\": publication_date, \"doi\": doi})\n",
    "        \n",
    "        START_INDEX += ARTICLE_PER_REQUEST\n",
    "        print(f\"Fetched {len(records)} records. Total records collected: {len(all_records)}\")\n",
    "    \n",
    "    except Exception as e:\n",
    "        print(f\"An error occurred: {e}\")\n",
    "        break\n",
    "\n",
    "    time.sleep(1)  # To avoid hitting the rate limit\n",
    "\n",
    "# Save the collected data to a JSON file\n",
    "with open('titles_from%s.json'%start, 'w') as f:\n",
    "    json.dump(all_records, f, indent=4)\n",
    "\n",
    "print(\"Data collection complete. Saved to titles.json.\")\n"
   ]
  },
  {
   "cell_type": "code",
   "execution_count": null,
   "metadata": {},
   "outputs": [
    {
     "name": "stdout",
     "output_type": "stream",
     "text": [
      "Data collection complete. Saved to titles.json.\n"
     ]
    }
   ],
   "source": [
    "with open('titles_from%s.json'%start, 'w') as f:\n",
    "    json.dump(all_records, f, indent=4)\n",
    "\n",
    "print(\"Data collection complete. Saved to titles.json.\")\n"
   ]
  },
  {
   "cell_type": "code",
   "execution_count": null,
   "metadata": {},
   "outputs": [],
   "source": []
  }
 ],
 "metadata": {
  "kernelspec": {
   "display_name": "BERT_RANKING_NEN3.8",
   "language": "python",
   "name": "python3"
  },
  "language_info": {
   "codemirror_mode": {
    "name": "ipython",
    "version": 3
   },
   "file_extension": ".py",
   "mimetype": "text/x-python",
   "name": "python",
   "nbconvert_exporter": "python",
   "pygments_lexer": "ipython3",
   "version": "3.8.19"
  }
 },
 "nbformat": 4,
 "nbformat_minor": 2
}
