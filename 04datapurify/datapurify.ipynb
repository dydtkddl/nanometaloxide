{
 "cells": [
  {
   "cell_type": "markdown",
   "metadata": {},
   "source": [
    "## 라벨링한 데이터 불러오기 API"
   ]
  },
  {
   "cell_type": "code",
   "execution_count": 16,
   "metadata": {},
   "outputs": [],
   "source": [
    "import requests \n",
    "import json\n",
    "import pandas as pd\n",
    "url = \"http://127.0.0.1:8000/get_labeling_info/\"\n",
    "response = requests.get(url)\n",
    "\n",
    "df = pd.DataFrame(json.loads(response.text))"
   ]
  },
  {
   "cell_type": "markdown",
   "metadata": {},
   "source": [
    "## 불필요한 공백 제거, 특수문자 제거"
   ]
  },
  {
   "cell_type": "code",
   "execution_count": 18,
   "metadata": {},
   "outputs": [
    {
     "name": "stdout",
     "output_type": "stream",
     "text": [
      "                                               title     is_nanoparticle  \\\n",
      "0  Numerical analysis of mixed convection heat tr...  [0, 0, 0, 1, 0, 0]   \n",
      "1  Experimental Study on the Flow Boiling (Two-Ph...  [0, 0, 0, 1, 0, 0]   \n",
      "2  Featuring with Nano Alumina Made Hybrid Epoxy/...  [0, 0, 0, 1, 0, 0]   \n",
      "3  Nitrate removal study of synthesized nano -alu...  [0, 0, 0, 1, 0, 0]   \n",
      "4  Synthesis characterization and preparation of ...  [0, 0, 0, 1, 0, 0]   \n",
      "\n",
      "         main_subject  \n",
      "0  [0, 0, 0, 1, 0, 0]  \n",
      "1  [0, 0, 0, 1, 0, 0]  \n",
      "2  [0, 0, 0, 1, 0, 0]  \n",
      "3  [0, 0, 0, 1, 0, 0]  \n",
      "4  [0, 0, 0, 1, 0, 0]  \n"
     ]
    }
   ],
   "source": [
    "import re\n",
    "# 텍스트 정제 함수\n",
    "def clean_text(text):\n",
    "    # 불필요한 공백 제거\n",
    "    text = re.sub(r'\\s+', ' ', text).strip()\n",
    "    text = text.replace(\"–\", \"-\")\n",
    "    # 특수 문자 제거 (허용할 특수 문자: -_/()[]@)\n",
    "    text = re.sub(r'[^a-zA-Z0-9\\s\\-\\_\\(\\)\\[\\]\\/@]', '', text)\n",
    "    return text\n",
    "\n",
    "# 제목 텍스트 정제\n",
    "df['title'] = df['title'].apply(clean_text)\n",
    "\n",
    "# 정제된 데이터 확인\n",
    "print(df.head())"
   ]
  },
  {
   "cell_type": "code",
   "execution_count": 20,
   "metadata": {},
   "outputs": [],
   "source": [
    "df.to_excel(\"purify_data.xlsx\")"
   ]
  },
  {
   "cell_type": "code",
   "execution_count": null,
   "metadata": {},
   "outputs": [],
   "source": []
  }
 ],
 "metadata": {
  "kernelspec": {
   "display_name": "BERT_RANKING_NEN3.8",
   "language": "python",
   "name": "python3"
  },
  "language_info": {
   "codemirror_mode": {
    "name": "ipython",
    "version": 3
   },
   "file_extension": ".py",
   "mimetype": "text/x-python",
   "name": "python",
   "nbconvert_exporter": "python",
   "pygments_lexer": "ipython3",
   "version": "3.8.19"
  }
 },
 "nbformat": 4,
 "nbformat_minor": 2
}
